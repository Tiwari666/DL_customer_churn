{
 "cells": [
  {
   "cell_type": "markdown",
   "id": "13be1976",
   "metadata": {},
   "source": [
    "1. manually create the template.py file inside the root directory of the project for the entire project structure.\n",
    "\n",
    "2.  Save the Python Script  as template.py.\n",
    "\n",
    "3.  Open Terminal or CMD and go to the project directory:\n",
    "\n",
    "cd C:\\Users\\naren\\Desktop\\New_DS\\DL_customer_churn\n",
    "\n",
    "4. Activate Conda Environment (Optional but Recommended)\n",
    "\n",
    "conda activate churn_env\n",
    "\n",
    "5. python template.py\n",
    "\n",
    "\n",
    "\n",
    "################ What's Next?##################\n",
    "| Next Step                  | Command or File                                                             |\n",
    "| -------------------------- | --------------------------------------------------------------------------- |\n",
    "|  Add  dependencies       | Edit `requirements.txt` manually or run:<br>`pip freeze > requirements.txt` |\n",
    "|  Build `setup.py`        |  fill it with our project info                               |\n",
    "| Initialize Git repo      | `git init` and commit our changes                                          |\n",
    "|  Begin development       | Start writing inside `src/` or `notebooks/`                                 |\n",
    "|  Create `config.yaml`    | Define paths, params, model config                                          |\n",
    "|  Document in `README.md` | Write what the project does and how to run                                  |\n",
    "\n"
   ]
  },
  {
   "cell_type": "markdown",
   "id": "e676f75d",
   "metadata": {},
   "source": []
  }
 ],
 "metadata": {
  "language_info": {
   "name": "python"
  }
 },
 "nbformat": 4,
 "nbformat_minor": 5
}
