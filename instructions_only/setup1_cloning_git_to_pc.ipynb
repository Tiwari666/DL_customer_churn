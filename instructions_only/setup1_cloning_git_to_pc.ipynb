{
 "cells": [
  {
   "cell_type": "markdown",
   "id": "3b49834f",
   "metadata": {},
   "source": [
    "1. create a new repository in the git: DL_Custeomer_Churn\n",
    "\n",
    "2. copy the HTTPS link inside the \"code\"\n",
    "\n",
    "3. open the directory in a local pc where you want to copy/clone the git repo.\n",
    "(Go inside New_DS)\n",
    "\n",
    "4. Righ clink inside the \"New_DS\" folder, select \"open in terminal\" and write the code:\n",
    "\n",
    "git clone + HTTPS link.\n",
    "\n",
    "git clone https://github.com/Tiwari666/DL_customer_churn.git\n",
    "\n",
    "5. go inside the right/curremt  directory with :  cd DL_customer_churn\n",
    "\n",
    "6. code : dir -- to check the curren directory\n",
    "\n",
    "7. open the VS code from the command propmt with code : code .\n",
    "\n",
    "you will see the the VS Code will be opening.\n",
    "\n",
    "\n",
    "##################################################Create a conda/python environment for the project########\n",
    "\n",
    "1. open a new terminal\n",
    "\n",
    "2. cd C:\\Users\\naren\\Desktop\\New_DS\\DL_customer_churn\n",
    "\n",
    "3. conda create --name churn_env python=3.11\n",
    "\n",
    "4. conda activate churn_env\n",
    "\n",
    "5. On RHS top, click on \"select kernel\"\n",
    "\n",
    "6. if you do not see the create envt, code : where python\n",
    "\n",
    "7. conda init\n",
    "\n",
    "8. close the terminal\n",
    "\n",
    "9. Open again the terminal and code : conda activate churn_env\n",
    "\n",
    "10. where python\n",
    "\n",
    "11. conda info --envs ( you will see your envt), which confirm that you are inside the current envt.\n",
    "\n",
    "\n",
    "\n",
    "\n",
    "\n",
    "\n"
   ]
  }
 ],
 "metadata": {
  "language_info": {
   "name": "python"
  }
 },
 "nbformat": 4,
 "nbformat_minor": 5
}
