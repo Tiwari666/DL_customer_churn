{
 "cells": [
  {
   "cell_type": "markdown",
   "id": "88ba8e21",
   "metadata": {},
   "source": [
    "# objective of setup.py file\n",
    "\n"
   ]
  },
  {
   "cell_type": "markdown",
   "id": "76321584",
   "metadata": {},
   "source": [
    "# How to commit the changes in the project in VS code into the GitHUb?"
   ]
  },
  {
   "cell_type": "markdown",
   "id": "2b0eacdb",
   "metadata": {},
   "source": [
    "1. click on the icon of \"source control\" on  LHS menu , third from the top ( a tangled rope).\n",
    "\n",
    "2. specofy the commit message \"requirements added\".\n",
    "\n",
    "3. click on \"commit\"\n",
    "\n",
    "4. click on \"Sync Chsanges\"\n",
    "\n",
    "5."
   ]
  }
 ],
 "metadata": {
  "language_info": {
   "name": "python"
  }
 },
 "nbformat": 4,
 "nbformat_minor": 5
}
