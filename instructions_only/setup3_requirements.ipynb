{
 "cells": [
  {
   "cell_type": "markdown",
   "id": "9998d356",
   "metadata": {},
   "source": [
    "# code to install requirements\n",
    "\n",
    "pip install -r requirements.txt"
   ]
  }
 ],
 "metadata": {
  "language_info": {
   "name": "python"
  }
 },
 "nbformat": 4,
 "nbformat_minor": 5
}
